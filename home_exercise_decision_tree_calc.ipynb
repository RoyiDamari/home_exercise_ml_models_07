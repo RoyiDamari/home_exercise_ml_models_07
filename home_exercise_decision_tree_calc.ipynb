{
 "cells": [
  {
   "cell_type": "code",
   "execution_count": null,
   "id": "0a527d1e-d2da-48d6-b964-3f2e5311569e",
   "metadata": {},
   "outputs": [],
   "source": [
    "X1\tX2\tY\n",
    "2\t5\tA\n",
    "4\t3\tA\n",
    "6\t4\tB\n",
    "8\t5\tB\n",
    "10\t3\tA\n",
    "12\t4\tB\n",
    "\n",
    "# First True - X1 <= 5\n",
    "# gini = 0\n",
    "# samples = 2\n",
    "# values = [2, 0]\n",
    "# class = A\n",
    "\n",
    "# First False - X1 > 5\n",
    "# gini = 1 - ((1/4)^2 + (3/4)^2) = 0.375\n",
    "# samples = 4\n",
    "# values = [1, 3]\n",
    "# class = B\n",
    "\n",
    "# Second True - X2 <= 3.5\n",
    "# gini = 0\n",
    "# samples = 1\n",
    "# values = [1, 0]\n",
    "# class = A\n",
    "\n",
    "# Second False - X2 > 3.5\n",
    "# gini = 0\n",
    "# samples = 3\n",
    "# values = [0, 3]\n",
    "# class = B"
   ]
  }
 ],
 "metadata": {
  "kernelspec": {
   "display_name": "Python 3 (ipykernel)",
   "language": "python",
   "name": "python3"
  },
  "language_info": {
   "codemirror_mode": {
    "name": "ipython",
    "version": 3
   },
   "file_extension": ".py",
   "mimetype": "text/x-python",
   "name": "python",
   "nbconvert_exporter": "python",
   "pygments_lexer": "ipython3",
   "version": "3.12.7"
  }
 },
 "nbformat": 4,
 "nbformat_minor": 5
}
